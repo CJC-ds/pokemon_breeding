{
 "cells": [
  {
   "cell_type": "code",
   "execution_count": 74,
   "metadata": {},
   "outputs": [],
   "source": [
    "from bs4 import BeautifulSoup\n",
    "import requests\n",
    "import pandas as pd\n",
    "import numpy as np\n",
    "import os"
   ]
  },
  {
   "cell_type": "code",
   "execution_count": 39,
   "metadata": {},
   "outputs": [],
   "source": [
    "url = 'https://bulbapedia.bulbagarden.net/wiki/List_of_Pokémon_by_base_Egg_cycles'\n",
    "response = requests.get(url)\n",
    "html_content = response.text"
   ]
  },
  {
   "cell_type": "code",
   "execution_count": 40,
   "metadata": {},
   "outputs": [],
   "source": [
    "soup = BeautifulSoup(html_content, 'html.parser')"
   ]
  },
  {
   "cell_type": "code",
   "execution_count": 41,
   "metadata": {},
   "outputs": [],
   "source": [
    "css_selector = 'html > body > div:nth-of-type(2) > div:nth-of-type(1) > div:nth-of-type(1) > div:nth-of-type(6) > div:nth-of-type(4) > div > table:nth-of-type(2)'\n",
    "table = soup.select(css_selector)"
   ]
  },
  {
   "cell_type": "code",
   "execution_count": 42,
   "metadata": {},
   "outputs": [
    {
     "name": "stdout",
     "output_type": "stream",
     "text": [
      "           # Unnamed: 1_level_0       Pokémon         Egg Group 1 Egg Group 2  \\\n",
      "           # Unnamed: 1_level_1       Pokémon         Egg Group 1 Egg Group 2   \n",
      "0        1.0                NaN     Bulbasaur             Monster       Grass   \n",
      "1        2.0                NaN       Ivysaur             Monster       Grass   \n",
      "2        3.0                NaN      Venusaur             Monster       Grass   \n",
      "3        4.0                NaN    Charmander             Monster      Dragon   \n",
      "4        5.0                NaN    Charmeleon             Monster      Dragon   \n",
      "...      ...                ...           ...                 ...         ...   \n",
      "1006  1007.0                NaN      Koraidon  No Eggs Discovered           —   \n",
      "1007  1008.0                NaN      Miraidon  No Eggs Discovered           —   \n",
      "1008  1009.0                NaN  Walking Wake  No Eggs Discovered           —   \n",
      "1009  1010.0                NaN   Iron Leaves  No Eggs Discovered           —   \n",
      "1010     NaN                NaN           NaN                 NaN         NaN   \n",
      "\n",
      "     Cycles  Steps                                              \n",
      "     Cycles Gen II Gen III Gen IV Gen V-VI Gen VII Gen VIII-IX  \n",
      "0      20.0   5120    5376   5355     5140    5120      2560.0  \n",
      "1      20.0   5120    5376   5355     5140    5120      2560.0  \n",
      "2      20.0   5120    5376   5355     5140    5120      2560.0  \n",
      "3      20.0   5120    5376   5355     5140    5120      2560.0  \n",
      "4      20.0   5120    5376   5355     5140    5120      2560.0  \n",
      "...     ...    ...     ...    ...      ...     ...         ...  \n",
      "1006   50.0      —       —      —        —       —      6400.0  \n",
      "1007   50.0      —       —      —        —       —      6400.0  \n",
      "1008   50.0      —       —      —        —       —      6400.0  \n",
      "1009   50.0      —       —      —        —       —      6400.0  \n",
      "1010    NaN    NaN     NaN    NaN      NaN     NaN         NaN  \n",
      "\n",
      "[1011 rows x 12 columns]\n"
     ]
    }
   ],
   "source": [
    "if table:\n",
    "    # Convert the HTML table to a string\n",
    "    table_string = str(table[0])\n",
    "\n",
    "    # Use pandas to read the HTML table string and create a DataFrame\n",
    "    df = pd.read_html(table_string)[0]\n",
    "    print(df)\n",
    "else:\n",
    "    print(\"Table not found.\")"
   ]
  },
  {
   "cell_type": "code",
   "execution_count": 43,
   "metadata": {},
   "outputs": [
    {
     "name": "stdout",
     "output_type": "stream",
     "text": [
      "Index(['# #', 'Unnamed: 1_level_0 Unnamed: 1_level_1', 'Pokémon Pokémon',\n",
      "       'Egg Group 1 Egg Group 1', 'Egg Group 2 Egg Group 2', 'Cycles Cycles',\n",
      "       'Steps Gen II', 'Steps Gen III', 'Steps Gen IV', 'Steps Gen V-VI',\n",
      "       'Steps Gen VII', 'Steps Gen VIII-IX'],\n",
      "      dtype='object')\n"
     ]
    }
   ],
   "source": [
    "# Create a new list to store the collapsed column headers\n",
    "collapsed_headers = []\n",
    "\n",
    "# Iterate over the current column headers\n",
    "for header in df.columns:\n",
    "    # Check if the header is a tuple (indicating a multi-level header)\n",
    "    if isinstance(header, tuple):\n",
    "        # Join the tuple elements with a separator\n",
    "        collapsed_header = ' '.join(header)\n",
    "        collapsed_headers.append(collapsed_header)\n",
    "    else:\n",
    "        collapsed_headers.append(header)\n",
    "\n",
    "# Assign the collapsed headers to the DataFrame\n",
    "df.columns = collapsed_headers\n",
    "\n",
    "# Check the updated column headers\n",
    "print(df.columns)"
   ]
  },
  {
   "cell_type": "code",
   "execution_count": 44,
   "metadata": {},
   "outputs": [],
   "source": [
    "df = df.drop(df.columns[1], axis=1)"
   ]
  },
  {
   "cell_type": "code",
   "execution_count": 45,
   "metadata": {},
   "outputs": [],
   "source": [
    "# Deduplicate the column names\n",
    "deduplicated_columns = []\n",
    "for col in df.columns:\n",
    "    words = col.split()  # Split the column name into words\n",
    "    unique_words = []\n",
    "    for word in words:\n",
    "        if word not in unique_words:\n",
    "            unique_words.append(word)\n",
    "    deduplicated_col = ' '.join(unique_words)  # Join the unique words back into a single string\n",
    "    deduplicated_columns.append(deduplicated_col)\n",
    "\n",
    "df.columns = deduplicated_columns"
   ]
  },
  {
   "cell_type": "code",
   "execution_count": 49,
   "metadata": {},
   "outputs": [],
   "source": [
    "df = df.replace('—', np.nan)"
   ]
  },
  {
   "cell_type": "code",
   "execution_count": 51,
   "metadata": {},
   "outputs": [],
   "source": [
    "df = df.drop(df.index[-1])"
   ]
  },
  {
   "cell_type": "code",
   "execution_count": 53,
   "metadata": {},
   "outputs": [],
   "source": [
    "df = df.replace('No Eggs Discovered', np.nan)\n",
    "df = df.rename(columns={df.columns[1]: 'pokemon'})"
   ]
  },
  {
   "cell_type": "code",
   "execution_count": 59,
   "metadata": {},
   "outputs": [],
   "source": [
    "df.columns = df.columns.str.lower()"
   ]
  },
  {
   "cell_type": "code",
   "execution_count": 62,
   "metadata": {},
   "outputs": [],
   "source": [
    "df.columns = df.columns.str.replace(' ', '_')"
   ]
  },
  {
   "cell_type": "code",
   "execution_count": 64,
   "metadata": {},
   "outputs": [
    {
     "name": "stdout",
     "output_type": "stream",
     "text": [
      "<class 'pandas.core.frame.DataFrame'>\n",
      "RangeIndex: 1010 entries, 0 to 1009\n",
      "Data columns (total 11 columns):\n",
      " #   Column             Non-Null Count  Dtype  \n",
      "---  ------             --------------  -----  \n",
      " 0   #                  1010 non-null   float64\n",
      " 1   pokémon            1010 non-null   object \n",
      " 2   egg_group_1        869 non-null    object \n",
      " 3   egg_group_2        275 non-null    object \n",
      " 4   cycles             1010 non-null   float64\n",
      " 5   steps_gen_ii       251 non-null    object \n",
      " 6   steps_gen_iii      386 non-null    object \n",
      " 7   steps_gen_iv       493 non-null    object \n",
      " 8   steps_gen_v-vi     721 non-null    object \n",
      " 9   steps_gen_vii      809 non-null    object \n",
      " 10  steps_gen_viii-ix  1010 non-null   float64\n",
      "dtypes: float64(3), object(8)\n",
      "memory usage: 86.9+ KB\n"
     ]
    }
   ],
   "source": [
    "df.info()"
   ]
  },
  {
   "cell_type": "code",
   "execution_count": 69,
   "metadata": {},
   "outputs": [],
   "source": [
    "\n",
    "df = df.rename(columns={df.columns[1]: 'pokemon', '#':'pokemon_id'})"
   ]
  },
  {
   "cell_type": "code",
   "execution_count": 72,
   "metadata": {},
   "outputs": [],
   "source": [
    "dtype_dict = {\n",
    "    'pokemon_id': 'int64',\n",
    "    'cycles': 'int64',\n",
    "    'steps_gen_viii-ix': 'int64'\n",
    "}\n",
    "\n",
    "df = df.astype(dtype_dict)"
   ]
  },
  {
   "cell_type": "code",
   "execution_count": 75,
   "metadata": {},
   "outputs": [],
   "source": [
    "output_path = os.path.join('..', 'data', 'pokemon_egg_group.csv')\n",
    "df.to_csv(output_path, index=False)"
   ]
  },
  {
   "cell_type": "code",
   "execution_count": 76,
   "metadata": {},
   "outputs": [
    {
     "data": {
      "text/html": [
       "<div>\n",
       "<style scoped>\n",
       "    .dataframe tbody tr th:only-of-type {\n",
       "        vertical-align: middle;\n",
       "    }\n",
       "\n",
       "    .dataframe tbody tr th {\n",
       "        vertical-align: top;\n",
       "    }\n",
       "\n",
       "    .dataframe thead th {\n",
       "        text-align: right;\n",
       "    }\n",
       "</style>\n",
       "<table border=\"1\" class=\"dataframe\">\n",
       "  <thead>\n",
       "    <tr style=\"text-align: right;\">\n",
       "      <th></th>\n",
       "      <th>pokemon_id</th>\n",
       "      <th>pokemon</th>\n",
       "      <th>egg_group_1</th>\n",
       "      <th>egg_group_2</th>\n",
       "      <th>cycles</th>\n",
       "      <th>steps_gen_ii</th>\n",
       "      <th>steps_gen_iii</th>\n",
       "      <th>steps_gen_iv</th>\n",
       "      <th>steps_gen_v-vi</th>\n",
       "      <th>steps_gen_vii</th>\n",
       "      <th>steps_gen_viii-ix</th>\n",
       "    </tr>\n",
       "  </thead>\n",
       "  <tbody>\n",
       "    <tr>\n",
       "      <th>0</th>\n",
       "      <td>1</td>\n",
       "      <td>Bulbasaur</td>\n",
       "      <td>Monster</td>\n",
       "      <td>Grass</td>\n",
       "      <td>20</td>\n",
       "      <td>5120</td>\n",
       "      <td>5376</td>\n",
       "      <td>5355</td>\n",
       "      <td>5140</td>\n",
       "      <td>5120</td>\n",
       "      <td>2560</td>\n",
       "    </tr>\n",
       "    <tr>\n",
       "      <th>1</th>\n",
       "      <td>2</td>\n",
       "      <td>Ivysaur</td>\n",
       "      <td>Monster</td>\n",
       "      <td>Grass</td>\n",
       "      <td>20</td>\n",
       "      <td>5120</td>\n",
       "      <td>5376</td>\n",
       "      <td>5355</td>\n",
       "      <td>5140</td>\n",
       "      <td>5120</td>\n",
       "      <td>2560</td>\n",
       "    </tr>\n",
       "    <tr>\n",
       "      <th>2</th>\n",
       "      <td>3</td>\n",
       "      <td>Venusaur</td>\n",
       "      <td>Monster</td>\n",
       "      <td>Grass</td>\n",
       "      <td>20</td>\n",
       "      <td>5120</td>\n",
       "      <td>5376</td>\n",
       "      <td>5355</td>\n",
       "      <td>5140</td>\n",
       "      <td>5120</td>\n",
       "      <td>2560</td>\n",
       "    </tr>\n",
       "    <tr>\n",
       "      <th>3</th>\n",
       "      <td>4</td>\n",
       "      <td>Charmander</td>\n",
       "      <td>Monster</td>\n",
       "      <td>Dragon</td>\n",
       "      <td>20</td>\n",
       "      <td>5120</td>\n",
       "      <td>5376</td>\n",
       "      <td>5355</td>\n",
       "      <td>5140</td>\n",
       "      <td>5120</td>\n",
       "      <td>2560</td>\n",
       "    </tr>\n",
       "    <tr>\n",
       "      <th>4</th>\n",
       "      <td>5</td>\n",
       "      <td>Charmeleon</td>\n",
       "      <td>Monster</td>\n",
       "      <td>Dragon</td>\n",
       "      <td>20</td>\n",
       "      <td>5120</td>\n",
       "      <td>5376</td>\n",
       "      <td>5355</td>\n",
       "      <td>5140</td>\n",
       "      <td>5120</td>\n",
       "      <td>2560</td>\n",
       "    </tr>\n",
       "  </tbody>\n",
       "</table>\n",
       "</div>"
      ],
      "text/plain": [
       "   pokemon_id     pokemon egg_group_1 egg_group_2  cycles steps_gen_ii  \\\n",
       "0           1   Bulbasaur     Monster       Grass      20         5120   \n",
       "1           2     Ivysaur     Monster       Grass      20         5120   \n",
       "2           3    Venusaur     Monster       Grass      20         5120   \n",
       "3           4  Charmander     Monster      Dragon      20         5120   \n",
       "4           5  Charmeleon     Monster      Dragon      20         5120   \n",
       "\n",
       "  steps_gen_iii steps_gen_iv steps_gen_v-vi steps_gen_vii  steps_gen_viii-ix  \n",
       "0          5376         5355           5140          5120               2560  \n",
       "1          5376         5355           5140          5120               2560  \n",
       "2          5376         5355           5140          5120               2560  \n",
       "3          5376         5355           5140          5120               2560  \n",
       "4          5376         5355           5140          5120               2560  "
      ]
     },
     "execution_count": 76,
     "metadata": {},
     "output_type": "execute_result"
    }
   ],
   "source": [
    "df.head(5)"
   ]
  },
  {
   "cell_type": "code",
   "execution_count": null,
   "metadata": {},
   "outputs": [],
   "source": []
  }
 ],
 "metadata": {
  "kernelspec": {
   "display_name": "base",
   "language": "python",
   "name": "python3"
  },
  "language_info": {
   "codemirror_mode": {
    "name": "ipython",
    "version": 3
   },
   "file_extension": ".py",
   "mimetype": "text/x-python",
   "name": "python",
   "nbconvert_exporter": "python",
   "pygments_lexer": "ipython3",
   "version": "3.9.13"
  },
  "orig_nbformat": 4
 },
 "nbformat": 4,
 "nbformat_minor": 2
}
